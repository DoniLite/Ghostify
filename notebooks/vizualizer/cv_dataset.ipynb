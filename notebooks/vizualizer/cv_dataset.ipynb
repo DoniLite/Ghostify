{
 "cells": [
  {
   "cell_type": "markdown",
   "metadata": {},
   "source": [
    "# CV Data Visualizer\n",
    "\n",
    "This notebook provides a set of grid view for the dataset that we're using to perfect our *prediction* model for `CV_CLASSIFICATION`  \n"
   ]
  }
 ],
 "metadata": {
  "kernelspec": {
   "display_name": "Deno",
   "language": "typescript",
   "name": "deno"
  },
  "language_info": {
   "name": "typescript"
  }
 },
 "nbformat": 4,
 "nbformat_minor": 2
}
