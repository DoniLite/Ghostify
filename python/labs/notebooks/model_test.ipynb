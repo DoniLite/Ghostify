{
 "cells": [
  {
   "cell_type": "markdown",
   "metadata": {},
   "source": [
    "# Model `Hawks`\n",
    "\n",
    "## Testing the haws model with simple data"
   ]
  },
  {
   "cell_type": "code",
   "execution_count": null,
   "metadata": {},
   "outputs": [],
   "source": [
    "import sys\n",
    "import os\n",
    "\n",
    "# Chemin absolu vers la racine de votre projet\n",
    "project_root = '/home/doni/Documents/Projects/Ghostify/python'\n",
    "sys.path.insert(0, project_root)\n",
    "\n",
    "# Importation\n",
    "from labs.src.model import HybridBERTGPT2Model\n",
    "\n",
    "\n",
    "model = HybridBERTGPT2Model(bert_model_name='../models/model/bertz', gpt2_model_name='../models/model/gpt2')\n",
    "    \n",
    "    # Exemple de texte d'entrée\n",
    "input_text = \"Le machine learning est un domaine fascinant de l'intelligence artificielle.\"\n",
    "query = \"Quels sont les principes du machine learning ?\"\n",
    "    \n",
    "    # Passage à travers le réseau\n",
    "results = model(input_text, query)\n",
    "    \n",
    "print(\"Texte généré:\", results['generated_text'])\n",
    "print(\"Informations récupérées:\", results['retrieved_info'])"
   ]
  }
 ],
 "metadata": {
  "kernelspec": {
   "display_name": ".venv",
   "language": "python",
   "name": "python3"
  },
  "language_info": {
   "codemirror_mode": {
    "name": "ipython",
    "version": 3
   },
   "file_extension": ".py",
   "mimetype": "text/x-python",
   "name": "python",
   "nbconvert_exporter": "python",
   "pygments_lexer": "ipython3",
   "version": "3.12.3"
  }
 },
 "nbformat": 4,
 "nbformat_minor": 2
}
