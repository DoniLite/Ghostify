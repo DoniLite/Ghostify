{
 "cells": [
  {
   "cell_type": "markdown",
   "metadata": {},
   "source": [
    "# Ghostify Project\n",
    "\n",
    "## Train notebooks \n",
    "\n",
    "This Notebook contains the training data that i used to test models `GPT2` and `Bertz`  \n",
    "Before using this i've preprocessed and modified some entries in the dataset"
   ]
  },
  {
   "cell_type": "code",
   "execution_count": null,
   "metadata": {},
   "outputs": [],
   "source": [
    "import pandas as pd\n",
    "import numpy as np\n",
    "\n",
    "data = pd.read_csv('../data/train/Resume.csv')\n",
    "# print(data)\n",
    "category = data.get('Category')\n",
    "numbers = np.arange(0, len(category), 1)\n",
    "# print(category[:20])\n",
    "for n in numbers:\n",
    "    print(category[n])"
   ]
  },
  {
   "cell_type": "code",
   "execution_count": null,
   "metadata": {},
   "outputs": [],
   "source": [
    "update_values = \", \".join([f\"{column} = %s\" for column in [\n",
    "                'match_id', 'team_a_short', 'team_b_short', 'team_a_shots_on_target', 'team_b_shots_on_target', \n",
    "                'team_a_possession', 'team_b_possession', 'team_a_passes', 'team_b_passes', 'team_a_pass_accuracy', \n",
    "                'team_b_pass_accuracy', 'team_a_fouls', 'team_b_fouls', 'team_a_yellow_cards', 'team_b_yellow_cards', \n",
    "                'team_a_red_cards', 'team_b_red_cards', 'team_a_offsides', 'team_b_offsides', 'team_a_corners', \n",
    "                'team_b_corners', 'team_a_goal_times', 'team_b_goal_times'\n",
    "            ]])\n",
    "            \n",
    "print(update_values)"
   ]
  }
 ],
 "metadata": {
  "kernelspec": {
   "display_name": ".venv",
   "language": "python",
   "name": "python3"
  },
  "language_info": {
   "codemirror_mode": {
    "name": "ipython",
    "version": 3
   },
   "file_extension": ".py",
   "mimetype": "text/x-python",
   "name": "python",
   "nbconvert_exporter": "python",
   "pygments_lexer": "ipython3",
   "version": "3.12.3"
  }
 },
 "nbformat": 4,
 "nbformat_minor": 2
}
